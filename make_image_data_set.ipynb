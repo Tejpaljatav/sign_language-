{
 "cells": [
  {
   "cell_type": "code",
   "execution_count": 1,
   "id": "098919aa",
   "metadata": {},
   "outputs": [],
   "source": [
    "# import and install all dependencies\n"
   ]
  },
  {
   "cell_type": "code",
   "execution_count": null,
   "id": "936a4c82",
   "metadata": {},
   "outputs": [],
   "source": []
  },
  {
   "cell_type": "code",
   "execution_count": 2,
   "id": "9644190f",
   "metadata": {},
   "outputs": [],
   "source": [
    "import cv2\n",
    "import mediapipe as mp\n",
    "import os\n",
    "import matplotlib.pyplot as plt\n",
    "import numpy as np\n",
    "import pandas as pd\n",
    "import seaborn as sns\n",
    "\n"
   ]
  },
  {
   "cell_type": "markdown",
   "id": "a8e86525",
   "metadata": {},
   "source": [
    "# keypoint mp holistic"
   ]
  },
  {
   "cell_type": "code",
   "execution_count": 3,
   "id": "37b6a2af",
   "metadata": {},
   "outputs": [],
   "source": [
    "mp_holistic = mp.solutions.holistic\n",
    "mp_drawing = mp.solutions.drawing_utils\n"
   ]
  },
  {
   "cell_type": "code",
   "execution_count": 4,
   "id": "6a186533",
   "metadata": {},
   "outputs": [],
   "source": [
    "def mediapipe_detection(image, model):\n",
    "    image = cv2.cvtColor(image, cv2.COLOR_BGR2RGB)\n",
    "    image.flags.writeable = False\n",
    "    results = model.process(image)\n",
    "    image.flags.writeable = True\n",
    "    image = cv2.cvtColor(image, cv2.COLOR_RGB2BGR )\n",
    "    return image, results"
   ]
  },
  {
   "cell_type": "code",
   "execution_count": 5,
   "id": "4005f02e",
   "metadata": {},
   "outputs": [],
   "source": [
    "def  draw_landmarks(image, results):\n",
    "    # mp_drawing.draw_landmarks(image, results.face_landmarks, mp_holistic. FACEMESH_TESSELATION)\n",
    "    # mp_drawing.draw_landmarks(image, results.pose_landmarks, mp_holistic.POSE_CONNECTIONS)\n",
    "    mp_drawing.draw_landmarks(image, results.left_hand_landmarks, mp_holistic.HAND_CONNECTIONS)\n",
    "    mp_drawing.draw_landmarks(image, results.right_hand_landmarks, mp_holistic.HAND_CONNECTIONS)"
   ]
  },
  {
   "cell_type": "code",
   "execution_count": 6,
   "id": "1d50a0ba",
   "metadata": {},
   "outputs": [],
   "source": [
    "def draw_landmarks_new(image, results):\n",
    "     # 1. Draw face landmarks\n",
    "        ''' mp_drawing.draw_landmarks(image, results.face_landmarks, mp_holistic. FACEMESH_TESSELATION, \n",
    "                                mp_drawing.DrawingSpec(color=(80,110,10), thickness=1, circle_radius=1),\n",
    "                              mp_drawing.DrawingSpec(color=(80,256,121), thickness=1, circle_radius=1)\n",
    "                               )'''\n",
    "        \n",
    "        # 2. Right hand\n",
    "        mp_drawing.draw_landmarks(image, results.right_hand_landmarks, mp_holistic.HAND_CONNECTIONS, \n",
    "                                 mp_drawing.DrawingSpec(color=(80,22,10), thickness=2, circle_radius=4),\n",
    "                                 mp_drawing.DrawingSpec(color=(80,44,121), thickness=2, circle_radius=2)\n",
    "                                 ) \n",
    "\n",
    "        # 3. Left Hand\n",
    "        mp_drawing.draw_landmarks(image, results.left_hand_landmarks, mp_holistic.HAND_CONNECTIONS, \n",
    "                                 mp_drawing.DrawingSpec(color=(121,22,76), thickness=2, circle_radius=4),\n",
    "                                 mp_drawing.DrawingSpec(color=(121,44,250), thickness=2, circle_radius=2)\n",
    "                                 )\n",
    "\n",
    "        # 4. Pose Detections\n",
    "        '''mp_drawing.draw_landmarks(image, results.pose_landmarks, mp_holistic.POSE_CONNECTIONS, \n",
    "                                 mp_drawing.DrawingSpec(color=(245,117,66), thickness=2, circle_radius=4),\n",
    "                                 mp_drawing.DrawingSpec(color=(245,66,230), thickness=2, circle_radius=2)\n",
    "                                 )'''"
   ]
  },
  {
   "cell_type": "code",
   "execution_count": 8,
   "id": "d15268df",
   "metadata": {
    "scrolled": true
   },
   "outputs": [
    {
     "name": "stdout",
     "output_type": "stream",
     "text": [
      "<class 'mediapipe.python.solution_base.SolutionOutputs'>\n",
      "<class 'mediapipe.python.solution_base.SolutionOutputs'>\n",
      "<class 'mediapipe.python.solution_base.SolutionOutputs'>\n",
      "<class 'mediapipe.python.solution_base.SolutionOutputs'>\n",
      "<class 'mediapipe.python.solution_base.SolutionOutputs'>\n",
      "<class 'mediapipe.python.solution_base.SolutionOutputs'>\n",
      "<class 'mediapipe.python.solution_base.SolutionOutputs'>\n",
      "<class 'mediapipe.python.solution_base.SolutionOutputs'>\n",
      "<class 'mediapipe.python.solution_base.SolutionOutputs'>\n",
      "<class 'mediapipe.python.solution_base.SolutionOutputs'>\n",
      "<class 'mediapipe.python.solution_base.SolutionOutputs'>\n"
     ]
    }
   ],
   "source": [
    "cap = cv2.VideoCapture(0)   \n",
    "with mp_holistic.Holistic(min_detection_confidence=0.5, min_tracking_confidence=0.5) as holistic:\n",
    "    while cap.isOpened():\n",
    "        ret, frame = cap.read()  \n",
    "        image, results= mediapipe_detection(frame, holistic)\n",
    "        print(results)\n",
    "        image = cv2.resize(image, (700,400))\n",
    "        draw_landmarks_new(image, results)\n",
    "        cv2.imshow(\"Camera_Screen\", image)\n",
    "        if cv2.waitKey(10) & 0xff == ord('q'):\n",
    "            break\n",
    "    cap.release()\n",
    "    cv2.destroyAllWindows()"
   ]
  },
  {
   "cell_type": "code",
   "execution_count": 9,
   "id": "b0ae78e3",
   "metadata": {},
   "outputs": [
    {
     "data": {
      "text/plain": [
       "landmark {\n",
       "  x: 0.75260127\n",
       "  y: 0.5151086\n",
       "  z: -1.5484297\n",
       "  visibility: 0.9986382\n",
       "}\n",
       "landmark {\n",
       "  x: 0.7953587\n",
       "  y: 0.44584402\n",
       "  z: -1.4749405\n",
       "  visibility: 0.99591315\n",
       "}\n",
       "landmark {\n",
       "  x: 0.8177663\n",
       "  y: 0.44967598\n",
       "  z: -1.4750153\n",
       "  visibility: 0.99610037\n",
       "}\n",
       "landmark {\n",
       "  x: 0.83917207\n",
       "  y: 0.45362523\n",
       "  z: -1.475187\n",
       "  visibility: 0.99527663\n",
       "}\n",
       "landmark {\n",
       "  x: 0.7169412\n",
       "  y: 0.433976\n",
       "  z: -1.5012844\n",
       "  visibility: 0.9972294\n",
       "}\n",
       "landmark {\n",
       "  x: 0.6902477\n",
       "  y: 0.43124247\n",
       "  z: -1.500408\n",
       "  visibility: 0.99783194\n",
       "}\n",
       "landmark {\n",
       "  x: 0.66398454\n",
       "  y: 0.42987263\n",
       "  z: -1.5010085\n",
       "  visibility: 0.9977824\n",
       "}\n",
       "landmark {\n",
       "  x: 0.867904\n",
       "  y: 0.47813883\n",
       "  z: -0.897476\n",
       "  visibility: 0.9946432\n",
       "}\n",
       "landmark {\n",
       "  x: 0.6251532\n",
       "  y: 0.44934705\n",
       "  z: -0.98516905\n",
       "  visibility: 0.9986038\n",
       "}\n",
       "landmark {\n",
       "  x: 0.79185396\n",
       "  y: 0.6119637\n",
       "  z: -1.3248079\n",
       "  visibility: 0.9989257\n",
       "}\n",
       "landmark {\n",
       "  x: 0.69801015\n",
       "  y: 0.6012791\n",
       "  z: -1.3507669\n",
       "  visibility: 0.999239\n",
       "}\n",
       "landmark {\n",
       "  x: 0.97655123\n",
       "  y: 0.80528253\n",
       "  z: -0.36876935\n",
       "  visibility: 0.9952949\n",
       "}\n",
       "landmark {\n",
       "  x: 0.4423356\n",
       "  y: 0.816291\n",
       "  z: -0.71036077\n",
       "  visibility: 0.99931073\n",
       "}\n",
       "landmark {\n",
       "  x: 1.1134564\n",
       "  y: 1.2251742\n",
       "  z: 0.052194644\n",
       "  visibility: 0.13396278\n",
       "}\n",
       "landmark {\n",
       "  x: 0.3300341\n",
       "  y: 1.2628974\n",
       "  z: -0.5461333\n",
       "  visibility: 0.62258685\n",
       "}\n",
       "landmark {\n",
       "  x: 1.103846\n",
       "  y: 1.6122041\n",
       "  z: -0.14794579\n",
       "  visibility: 0.013865575\n",
       "}\n",
       "landmark {\n",
       "  x: 0.34284133\n",
       "  y: 1.6943616\n",
       "  z: -0.99694186\n",
       "  visibility: 0.16851851\n",
       "}\n",
       "landmark {\n",
       "  x: 1.1288466\n",
       "  y: 1.749883\n",
       "  z: -0.21991189\n",
       "  visibility: 0.016397465\n",
       "}\n",
       "landmark {\n",
       "  x: 0.32185057\n",
       "  y: 1.8339028\n",
       "  z: -1.1414342\n",
       "  visibility: 0.15348034\n",
       "}\n",
       "landmark {\n",
       "  x: 1.0919439\n",
       "  y: 1.7500854\n",
       "  z: -0.31808168\n",
       "  visibility: 0.025465852\n",
       "}\n",
       "landmark {\n",
       "  x: 0.38827688\n",
       "  y: 1.8292117\n",
       "  z: -1.2687697\n",
       "  visibility: 0.21086508\n",
       "}\n",
       "landmark {\n",
       "  x: 1.0699525\n",
       "  y: 1.7007749\n",
       "  z: -0.20961368\n",
       "  visibility: 0.027229581\n",
       "}\n",
       "landmark {\n",
       "  x: 0.41191587\n",
       "  y: 1.7697245\n",
       "  z: -1.0613226\n",
       "  visibility: 0.2016228\n",
       "}\n",
       "landmark {\n",
       "  x: 0.8953341\n",
       "  y: 1.7330929\n",
       "  z: -0.04047028\n",
       "  visibility: 0.00035076568\n",
       "}\n",
       "landmark {\n",
       "  x: 0.5217235\n",
       "  y: 1.7245536\n",
       "  z: 0.04620302\n",
       "  visibility: 0.00038038762\n",
       "}\n",
       "landmark {\n",
       "  x: 0.86585\n",
       "  y: 2.5128229\n",
       "  z: -0.17097098\n",
       "  visibility: 0.00025941854\n",
       "}\n",
       "landmark {\n",
       "  x: 0.5239521\n",
       "  y: 2.500794\n",
       "  z: 0.020626964\n",
       "  visibility: 0.00016473947\n",
       "}\n",
       "landmark {\n",
       "  x: 0.8547896\n",
       "  y: 3.2379766\n",
       "  z: 0.5450655\n",
       "  visibility: 0.000114755145\n",
       "}\n",
       "landmark {\n",
       "  x: 0.53504413\n",
       "  y: 3.202787\n",
       "  z: 0.53864354\n",
       "  visibility: 1.6228552e-05\n",
       "}\n",
       "landmark {\n",
       "  x: 0.8606351\n",
       "  y: 3.3539648\n",
       "  z: 0.5631506\n",
       "  visibility: 0.00010271178\n",
       "}\n",
       "landmark {\n",
       "  x: 0.5268322\n",
       "  y: 3.3098116\n",
       "  z: 0.5645262\n",
       "  visibility: 7.198215e-05\n",
       "}\n",
       "landmark {\n",
       "  x: 0.8068429\n",
       "  y: 3.4472172\n",
       "  z: -0.2814858\n",
       "  visibility: 9.6492e-05\n",
       "}\n",
       "landmark {\n",
       "  x: 0.61030185\n",
       "  y: 3.42703\n",
       "  z: -0.32803893\n",
       "  visibility: 0.000104611616\n",
       "}"
      ]
     },
     "execution_count": 9,
     "metadata": {},
     "output_type": "execute_result"
    }
   ],
   "source": [
    "results.pose_landmarks\n"
   ]
  },
  {
   "cell_type": "code",
   "execution_count": 10,
   "id": "6804f8f5",
   "metadata": {},
   "outputs": [
    {
     "data": {
      "text/plain": [
       "mediapipe.python.solution_base.SolutionOutputs"
      ]
     },
     "execution_count": 10,
     "metadata": {},
     "output_type": "execute_result"
    }
   ],
   "source": [
    "results"
   ]
  },
  {
   "cell_type": "code",
   "execution_count": 11,
   "id": "60c6978b",
   "metadata": {},
   "outputs": [],
   "source": [
    "draw_landmarks(frame, results)\n"
   ]
  },
  {
   "cell_type": "code",
   "execution_count": 1,
   "id": "312719ce",
   "metadata": {
    "scrolled": true
   },
   "outputs": [
    {
     "ename": "NameError",
     "evalue": "name 'plt' is not defined",
     "output_type": "error",
     "traceback": [
      "\u001b[1;31m---------------------------------------------------------------------------\u001b[0m",
      "\u001b[1;31mNameError\u001b[0m                                 Traceback (most recent call last)",
      "Cell \u001b[1;32mIn[1], line 1\u001b[0m\n\u001b[1;32m----> 1\u001b[0m \u001b[43mplt\u001b[49m\u001b[38;5;241m.\u001b[39mimshow(cv2\u001b[38;5;241m.\u001b[39mcvtColor(frame, cv2\u001b[38;5;241m.\u001b[39mCOLOR_BGR2RGB))\n",
      "\u001b[1;31mNameError\u001b[0m: name 'plt' is not defined"
     ]
    }
   ],
   "source": [
    "\n",
    "plt.imshow(cv2.cvtColor(frame, cv2.COLOR_BGR2RGB))\n"
   ]
  },
  {
   "cell_type": "code",
   "execution_count": 13,
   "id": "60179ebc",
   "metadata": {},
   "outputs": [
    {
     "data": {
      "text/plain": [
       "(640, 3)"
      ]
     },
     "execution_count": 13,
     "metadata": {},
     "output_type": "execute_result"
    }
   ],
   "source": [
    "frame[0].shape"
   ]
  },
  {
   "cell_type": "code",
   "execution_count": null,
   "id": "a5c08403",
   "metadata": {},
   "outputs": [],
   "source": []
  },
  {
   "cell_type": "markdown",
   "id": "780907f7",
   "metadata": {},
   "source": [
    "# extract keypoits values"
   ]
  },
  {
   "cell_type": "code",
   "execution_count": 14,
   "id": "908d0f43",
   "metadata": {},
   "outputs": [],
   "source": [
    "results.right_hand_landmarks\n"
   ]
  },
  {
   "cell_type": "code",
   "execution_count": null,
   "id": "f4c97f23",
   "metadata": {},
   "outputs": [],
   "source": []
  },
  {
   "cell_type": "code",
   "execution_count": 15,
   "id": "2dfbd64c",
   "metadata": {},
   "outputs": [
    {
     "data": {
      "text/plain": [
       "landmark {\n",
       "  x: 0.75260127\n",
       "  y: 0.5151086\n",
       "  z: -1.5484297\n",
       "  visibility: 0.9986382\n",
       "}\n",
       "landmark {\n",
       "  x: 0.7953587\n",
       "  y: 0.44584402\n",
       "  z: -1.4749405\n",
       "  visibility: 0.99591315\n",
       "}\n",
       "landmark {\n",
       "  x: 0.8177663\n",
       "  y: 0.44967598\n",
       "  z: -1.4750153\n",
       "  visibility: 0.99610037\n",
       "}\n",
       "landmark {\n",
       "  x: 0.83917207\n",
       "  y: 0.45362523\n",
       "  z: -1.475187\n",
       "  visibility: 0.99527663\n",
       "}\n",
       "landmark {\n",
       "  x: 0.7169412\n",
       "  y: 0.433976\n",
       "  z: -1.5012844\n",
       "  visibility: 0.9972294\n",
       "}\n",
       "landmark {\n",
       "  x: 0.6902477\n",
       "  y: 0.43124247\n",
       "  z: -1.500408\n",
       "  visibility: 0.99783194\n",
       "}\n",
       "landmark {\n",
       "  x: 0.66398454\n",
       "  y: 0.42987263\n",
       "  z: -1.5010085\n",
       "  visibility: 0.9977824\n",
       "}\n",
       "landmark {\n",
       "  x: 0.867904\n",
       "  y: 0.47813883\n",
       "  z: -0.897476\n",
       "  visibility: 0.9946432\n",
       "}\n",
       "landmark {\n",
       "  x: 0.6251532\n",
       "  y: 0.44934705\n",
       "  z: -0.98516905\n",
       "  visibility: 0.9986038\n",
       "}\n",
       "landmark {\n",
       "  x: 0.79185396\n",
       "  y: 0.6119637\n",
       "  z: -1.3248079\n",
       "  visibility: 0.9989257\n",
       "}\n",
       "landmark {\n",
       "  x: 0.69801015\n",
       "  y: 0.6012791\n",
       "  z: -1.3507669\n",
       "  visibility: 0.999239\n",
       "}\n",
       "landmark {\n",
       "  x: 0.97655123\n",
       "  y: 0.80528253\n",
       "  z: -0.36876935\n",
       "  visibility: 0.9952949\n",
       "}\n",
       "landmark {\n",
       "  x: 0.4423356\n",
       "  y: 0.816291\n",
       "  z: -0.71036077\n",
       "  visibility: 0.99931073\n",
       "}\n",
       "landmark {\n",
       "  x: 1.1134564\n",
       "  y: 1.2251742\n",
       "  z: 0.052194644\n",
       "  visibility: 0.13396278\n",
       "}\n",
       "landmark {\n",
       "  x: 0.3300341\n",
       "  y: 1.2628974\n",
       "  z: -0.5461333\n",
       "  visibility: 0.62258685\n",
       "}\n",
       "landmark {\n",
       "  x: 1.103846\n",
       "  y: 1.6122041\n",
       "  z: -0.14794579\n",
       "  visibility: 0.013865575\n",
       "}\n",
       "landmark {\n",
       "  x: 0.34284133\n",
       "  y: 1.6943616\n",
       "  z: -0.99694186\n",
       "  visibility: 0.16851851\n",
       "}\n",
       "landmark {\n",
       "  x: 1.1288466\n",
       "  y: 1.749883\n",
       "  z: -0.21991189\n",
       "  visibility: 0.016397465\n",
       "}\n",
       "landmark {\n",
       "  x: 0.32185057\n",
       "  y: 1.8339028\n",
       "  z: -1.1414342\n",
       "  visibility: 0.15348034\n",
       "}\n",
       "landmark {\n",
       "  x: 1.0919439\n",
       "  y: 1.7500854\n",
       "  z: -0.31808168\n",
       "  visibility: 0.025465852\n",
       "}\n",
       "landmark {\n",
       "  x: 0.38827688\n",
       "  y: 1.8292117\n",
       "  z: -1.2687697\n",
       "  visibility: 0.21086508\n",
       "}\n",
       "landmark {\n",
       "  x: 1.0699525\n",
       "  y: 1.7007749\n",
       "  z: -0.20961368\n",
       "  visibility: 0.027229581\n",
       "}\n",
       "landmark {\n",
       "  x: 0.41191587\n",
       "  y: 1.7697245\n",
       "  z: -1.0613226\n",
       "  visibility: 0.2016228\n",
       "}\n",
       "landmark {\n",
       "  x: 0.8953341\n",
       "  y: 1.7330929\n",
       "  z: -0.04047028\n",
       "  visibility: 0.00035076568\n",
       "}\n",
       "landmark {\n",
       "  x: 0.5217235\n",
       "  y: 1.7245536\n",
       "  z: 0.04620302\n",
       "  visibility: 0.00038038762\n",
       "}\n",
       "landmark {\n",
       "  x: 0.86585\n",
       "  y: 2.5128229\n",
       "  z: -0.17097098\n",
       "  visibility: 0.00025941854\n",
       "}\n",
       "landmark {\n",
       "  x: 0.5239521\n",
       "  y: 2.500794\n",
       "  z: 0.020626964\n",
       "  visibility: 0.00016473947\n",
       "}\n",
       "landmark {\n",
       "  x: 0.8547896\n",
       "  y: 3.2379766\n",
       "  z: 0.5450655\n",
       "  visibility: 0.000114755145\n",
       "}\n",
       "landmark {\n",
       "  x: 0.53504413\n",
       "  y: 3.202787\n",
       "  z: 0.53864354\n",
       "  visibility: 1.6228552e-05\n",
       "}\n",
       "landmark {\n",
       "  x: 0.8606351\n",
       "  y: 3.3539648\n",
       "  z: 0.5631506\n",
       "  visibility: 0.00010271178\n",
       "}\n",
       "landmark {\n",
       "  x: 0.5268322\n",
       "  y: 3.3098116\n",
       "  z: 0.5645262\n",
       "  visibility: 7.198215e-05\n",
       "}\n",
       "landmark {\n",
       "  x: 0.8068429\n",
       "  y: 3.4472172\n",
       "  z: -0.2814858\n",
       "  visibility: 9.6492e-05\n",
       "}\n",
       "landmark {\n",
       "  x: 0.61030185\n",
       "  y: 3.42703\n",
       "  z: -0.32803893\n",
       "  visibility: 0.000104611616\n",
       "}"
      ]
     },
     "execution_count": 15,
     "metadata": {},
     "output_type": "execute_result"
    }
   ],
   "source": [
    "results.pose_landmarks"
   ]
  },
  {
   "cell_type": "code",
   "execution_count": 16,
   "id": "be15c8ac",
   "metadata": {},
   "outputs": [
    {
     "data": {
      "text/plain": [
       "33"
      ]
     },
     "execution_count": 16,
     "metadata": {},
     "output_type": "execute_result"
    }
   ],
   "source": [
    "len(results.pose_landmarks.landmark)"
   ]
  },
  {
   "cell_type": "code",
   "execution_count": 17,
   "id": "90c51d2e",
   "metadata": {},
   "outputs": [],
   "source": [
    "results.left_hand_landmarks"
   ]
  },
  {
   "cell_type": "code",
   "execution_count": 18,
   "id": "2dc28ec7",
   "metadata": {},
   "outputs": [
    {
     "ename": "AttributeError",
     "evalue": "'NoneType' object has no attribute 'landmark'",
     "output_type": "error",
     "traceback": [
      "\u001b[1;31m---------------------------------------------------------------------------\u001b[0m",
      "\u001b[1;31mAttributeError\u001b[0m                            Traceback (most recent call last)",
      "Cell \u001b[1;32mIn[18], line 1\u001b[0m\n\u001b[1;32m----> 1\u001b[0m \u001b[38;5;28mlen\u001b[39m(\u001b[43mresults\u001b[49m\u001b[38;5;241;43m.\u001b[39;49m\u001b[43mleft_hand_landmarks\u001b[49m\u001b[38;5;241;43m.\u001b[39;49m\u001b[43mlandmark\u001b[49m)\n",
      "\u001b[1;31mAttributeError\u001b[0m: 'NoneType' object has no attribute 'landmark'"
     ]
    }
   ],
   "source": [
    "len(results.left_hand_landmarks.landmark)"
   ]
  },
  {
   "cell_type": "code",
   "execution_count": null,
   "id": "1ebe1a3a",
   "metadata": {},
   "outputs": [],
   "source": [
    "results.right_hand_landmarks"
   ]
  },
  {
   "cell_type": "code",
   "execution_count": null,
   "id": "d4676ceb",
   "metadata": {},
   "outputs": [],
   "source": [
    "len(results.right_hand_landmarks.landmark)"
   ]
  },
  {
   "cell_type": "code",
   "execution_count": null,
   "id": "3683a240",
   "metadata": {},
   "outputs": [],
   "source": [
    "# pose = np.array([[res.x, res.y, res.z, res.visibility] for res in results.pose_landmarks.landmark]).flatten() if results.left_hand_landmarks else np.zeros(33*4)\n",
    "lh = np.array([[res.x, res.y, res.z] for res in results.left_hand_landmarks.landmark]).flatten() if results.left_hand_landmarks else np.zeros(21*3)\n",
    "rh = np.array([[res.x, res.y, res.z,] for res in results.right_hand_landmarks.landmark]).flatten() if results.right_hand_landmarks else np.zeros(21*3)\n",
    "# face = np.array([[res.x, res.y, res.z,] for res in results.face_landmarks.landmark]).flatten() if results.face_landmarks else np.zeros(468*3)"
   ]
  },
  {
   "cell_type": "code",
   "execution_count": null,
   "id": "53e169b3",
   "metadata": {},
   "outputs": [],
   "source": [
    "pose.shape"
   ]
  },
  {
   "cell_type": "code",
   "execution_count": null,
   "id": "7319a5b1",
   "metadata": {},
   "outputs": [],
   "source": [
    "lh.shape"
   ]
  },
  {
   "cell_type": "code",
   "execution_count": 19,
   "id": "3358b244",
   "metadata": {},
   "outputs": [],
   "source": [
    "def extract_keypoint(results):\n",
    "    # pose = np.array([[res.x, res.y, res.z, res.visibility] for res in results.pose_landmarks.landmark]).flatten() if results.left_hand_landmarks else np.zeros(33*4)\n",
    "    lh = np.array([[res.x, res.y, res.z] for res in results.left_hand_landmarks.landmark]).flatten() if results.left_hand_landmarks else np.zeros(21*3)\n",
    "    rh = np.array([[res.x, res.y, res.z,] for res in results.right_hand_landmarks.landmark]).flatten() if results.right_hand_landmarks else np.zeros(21*3)\n",
    "    # face = np.array([[res.x, res.y, res.z,] for res in results.face_landmarks.landmark]).flatten() if results.face_landmarks else np.zeros(468*3)\n",
    "    return np.concatenate([lh, rh])"
   ]
  },
  {
   "cell_type": "code",
   "execution_count": 20,
   "id": "66ccf974",
   "metadata": {},
   "outputs": [
    {
     "data": {
      "text/plain": [
       "(126,)"
      ]
     },
     "execution_count": 20,
     "metadata": {},
     "output_type": "execute_result"
    }
   ],
   "source": [
    "extract_keypoint(results).shape"
   ]
  },
  {
   "cell_type": "code",
   "execution_count": 21,
   "id": "d2f6af0c",
   "metadata": {},
   "outputs": [],
   "source": [
    "result_test = extract_keypoint(results)"
   ]
  },
  {
   "cell_type": "code",
   "execution_count": 22,
   "id": "00d79583",
   "metadata": {},
   "outputs": [],
   "source": [
    "np.save('key_xyz123', result_test)"
   ]
  },
  {
   "cell_type": "code",
   "execution_count": 23,
   "id": "913324ce",
   "metadata": {},
   "outputs": [
    {
     "data": {
      "text/plain": [
       "array([0., 0., 0., 0., 0., 0., 0., 0., 0., 0., 0., 0., 0., 0., 0., 0., 0.,\n",
       "       0., 0., 0., 0., 0., 0., 0., 0., 0., 0., 0., 0., 0., 0., 0., 0., 0.,\n",
       "       0., 0., 0., 0., 0., 0., 0., 0., 0., 0., 0., 0., 0., 0., 0., 0., 0.,\n",
       "       0., 0., 0., 0., 0., 0., 0., 0., 0., 0., 0., 0., 0., 0., 0., 0., 0.,\n",
       "       0., 0., 0., 0., 0., 0., 0., 0., 0., 0., 0., 0., 0., 0., 0., 0., 0.,\n",
       "       0., 0., 0., 0., 0., 0., 0., 0., 0., 0., 0., 0., 0., 0., 0., 0., 0.,\n",
       "       0., 0., 0., 0., 0., 0., 0., 0., 0., 0., 0., 0., 0., 0., 0., 0., 0.,\n",
       "       0., 0., 0., 0., 0., 0., 0.])"
      ]
     },
     "execution_count": 23,
     "metadata": {},
     "output_type": "execute_result"
    }
   ],
   "source": [
    "np.load('key_xyz123.npy')"
   ]
  },
  {
   "cell_type": "markdown",
   "id": "51a5fc3c",
   "metadata": {},
   "source": [
    "# setup folder for data collection"
   ]
  },
  {
   "cell_type": "code",
   "execution_count": 24,
   "id": "b48705c8",
   "metadata": {},
   "outputs": [],
   "source": [
    "DATA_PATH = os.path.join('SIGN_DATA_ABC')\n",
    " \n",
    "actions = np.array(['A', 'B','C','D','E','F', 'G', 'H', 'I', 'J', 'K', 'L'])  \n",
    "\n",
    "no_sequences = 30\n",
    "\n",
    "sequence_length = 30"
   ]
  },
  {
   "cell_type": "code",
   "execution_count": null,
   "id": "352dbdd7",
   "metadata": {},
   "outputs": [],
   "source": [
    "for action in actions:\n",
    "    for sequence in range(no_sequences):\n",
    "        try:\n",
    "            os.makedirs(os.path.join(DATA_PATH, action, str(sequence)))\n",
    "        except:\n",
    "            pass"
   ]
  },
  {
   "cell_type": "code",
   "execution_count": null,
   "id": "dd1ffa5b",
   "metadata": {},
   "outputs": [],
   "source": []
  },
  {
   "cell_type": "markdown",
   "id": "dbe7382e",
   "metadata": {},
   "source": [
    "# collecting data"
   ]
  },
  {
   "cell_type": "code",
   "execution_count": 25,
   "id": "12331ccd",
   "metadata": {},
   "outputs": [],
   "source": [
    "cap = cv2.VideoCapture(0)\n",
    "\n",
    "with mp_holistic.Holistic(min_detection_confidence=0.5, min_tracking_confidence=0.5) as holistic:\n",
    "    for action in actions:\n",
    "        for sequence in range(no_sequences):\n",
    "            for frame_num in range(sequence_length):\n",
    "                ret, frame = cap.read()\n",
    "                image, results = mediapipe_detection(frame, holistic)\n",
    "                image = cv2.resize(image, (700,400))\n",
    "                draw_landmarks_new(image, results)\n",
    "                \n",
    "                if frame_num == 0: \n",
    "                    cv2.putText(image, 'STARTING COLLECTION', (120,200), \n",
    "                               cv2.FONT_HERSHEY_SIMPLEX, 1, (0,255, 0), 4, cv2.LINE_AA)\n",
    "                    cv2.putText(image, 'Collecting frames for {} Video Number {}'.format(action, sequence), (15,12), \n",
    "                               cv2.FONT_HERSHEY_SIMPLEX, 0.5, (0, 0, 255), 1, cv2.LINE_AA)\n",
    "                    \n",
    "                    cv2.imshow('Camera_Screen', image)\n",
    "                    cv2.waitKey(200)\n",
    "                else: \n",
    "                    cv2.putText(image, 'Collecting frames for {} Video Number {}'.format(action, sequence), (15,12), \n",
    "                               cv2.FONT_HERSHEY_SIMPLEX, 0.5, (0, 0, 255), 1, cv2.LINE_AA)\n",
    "                   \n",
    "                    cv2.imshow('Camera_Screen', image)\n",
    "                \n",
    "                keypoints = extract_keypoint(results)\n",
    "                npy_path = os.path.join(DATA_PATH, action, str(sequence), str(frame_num))\n",
    "                np.save(npy_path, keypoints)\n",
    "\n",
    "                if cv2.waitKey(10) & 0xFF == ord('q'):\n",
    "                    break\n",
    "                    \n",
    "    cap.release()\n",
    "    cv2.destroyAllWindows()"
   ]
  },
  {
   "cell_type": "code",
   "execution_count": null,
   "id": "090f8486",
   "metadata": {},
   "outputs": [],
   "source": []
  }
 ],
 "metadata": {
  "kernelspec": {
   "display_name": "Python 3 (ipykernel)",
   "language": "python",
   "name": "python3"
  },
  "language_info": {
   "codemirror_mode": {
    "name": "ipython",
    "version": 3
   },
   "file_extension": ".py",
   "mimetype": "text/x-python",
   "name": "python",
   "nbconvert_exporter": "python",
   "pygments_lexer": "ipython3",
   "version": "3.11.5"
  }
 },
 "nbformat": 4,
 "nbformat_minor": 5
}
